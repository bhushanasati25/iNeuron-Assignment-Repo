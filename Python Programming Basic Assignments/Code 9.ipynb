{
 "cells": [
  {
   "cell_type": "code",
   "execution_count": null,
   "metadata": {},
   "outputs": [],
   "source": [
    "Q1 Write a Python program to check if the given number is a Disarium Number?\n",
    "\n",
    "Solution :- "
   ]
  },
  {
   "cell_type": "code",
   "execution_count": 16,
   "metadata": {},
   "outputs": [
    {
     "name": "stdout",
     "output_type": "stream",
     "text": [
      "Enter the Number :- 35\n",
      "Not Disarium\n"
     ]
    }
   ],
   "source": [
    "def digits(n):\n",
    "    l=0\n",
    "    while(n>0):\n",
    "        n=n//10\n",
    "        l=l+1\n",
    "    return l\n",
    "def Disarium(x,n):\n",
    "    Sum=0\n",
    "    while(n>0):\n",
    "        r=n%10\n",
    "        Sum=Sum+(r**x)\n",
    "        x=x-1\n",
    "        n=n//10\n",
    "    return Sum\n",
    "n=int(input(\"Enter the Number :- \"))\n",
    "x=digits(n)\n",
    "m=Disarium(x,n)\n",
    "if(m==n):\n",
    "    print(\"Disarium\")\n",
    "else:\n",
    "    print(\"Not Disarium\")"
   ]
  },
  {
   "cell_type": "code",
   "execution_count": null,
   "metadata": {},
   "outputs": [],
   "source": [
    "Q2. Write a Python program to print all disarium numbers between 1 to 100?\n",
    "\n",
    "Solution :- "
   ]
  },
  {
   "cell_type": "code",
   "execution_count": 7,
   "metadata": {},
   "outputs": [
    {
     "name": "stdout",
     "output_type": "stream",
     "text": [
      "Enter the Lowest Number : 1\n",
      "Enter the Highest Number : 100\n",
      "Disarium Number within Range(1,100) ARE -\n",
      "1 2 3 4 5 6 7 8 9 89 "
     ]
    }
   ],
   "source": [
    "def check_disarium(number):    \n",
    "    no_digits = 0\n",
    "    num = number  \n",
    "    while(num != 0):\n",
    "        no_digits = no_digits + 1\n",
    "        num = num//10\n",
    "\n",
    "    remainder = 0\n",
    "    disarium_num = 0    \n",
    "    while(number > 0):\n",
    "        remainder = number % 10\n",
    "        disarium_num = disarium_num + (remainder**no_digits)\n",
    "        number = number//10\n",
    "        no_digits = no_digits - 1\n",
    "    return disarium_num\n",
    "\n",
    "lower = int(input(\"Enter the Lowest Number : \"))\n",
    "upper = int(input(\"Enter the Highest Number : \"))\n",
    "print(\"Disarium Number within Range({},{}) ARE -\".format(lower,upper))\n",
    "for i in range(lower,upper+1):    \n",
    "    if check_disarium(i) == i:\n",
    "        print(i,end=\" \")"
   ]
  },
  {
   "cell_type": "code",
   "execution_count": null,
   "metadata": {},
   "outputs": [],
   "source": [
    "Q3. Write a Python program to check if the given number is Happy Number?\n",
    "\n",
    "Solution :- "
   ]
  },
  {
   "cell_type": "code",
   "execution_count": 12,
   "metadata": {},
   "outputs": [
    {
     "name": "stdout",
     "output_type": "stream",
     "text": [
      "Enter a number: 27\n",
      "27 is an Unhappy Number!!!\n"
     ]
    }
   ],
   "source": [
    "def isHappyNumber(n):    \n",
    "    digit = sum = 0    \n",
    "    while(n > 0):    \n",
    "        digit = n % 10 \n",
    "        sum = sum + (digit * digit)    \n",
    "        n = n // 10   \n",
    "    return sum    \n",
    "        \n",
    "num = int(input(\"Enter a number: \"))    \n",
    "result = num    \n",
    "     \n",
    "while(result != 1 and result != 4):    \n",
    "    result = isHappyNumber(result)   \n",
    "     \n",
    "if(result == 1):    \n",
    "    print(num, \"is a Happy Number!!!\")   \n",
    "else:    \n",
    "    print(num, \"is an Unhappy Number!!!\")"
   ]
  },
  {
   "cell_type": "code",
   "execution_count": null,
   "metadata": {},
   "outputs": [],
   "source": [
    "Q4. Write a Python program to print all happy numbers between 1 and 100?\n",
    "\n",
    "Solution :- "
   ]
  },
  {
   "cell_type": "code",
   "execution_count": 17,
   "metadata": {},
   "outputs": [
    {
     "name": "stdout",
     "output_type": "stream",
     "text": [
      "Enter the Lowest Value : 1\n",
      "Enter the Highest Value : 100\n",
      "Happy number within Range(1,100) are -\n",
      "1 7 10 13 19 23 28 31 32 44 49 68 70 79 82 86 91 94 97 100 "
     ]
    }
   ],
   "source": [
    "def check_happy(number):\n",
    "    remainder = 0\n",
    "    happy_num = 0;    \n",
    "    while(number > 0):    \n",
    "        remainder = number%10;    \n",
    "        happy_num = happy_num + (remainder*remainder);    \n",
    "        number = number//10;\n",
    "    return happy_num;\n",
    "\n",
    "lower = int(input(\"Enter the Lowest Value : \"))\n",
    "upper = int(input(\"Enter the Highest Value : \"))\n",
    "print(\"Happy number within Range({},{}) are -\".format(lower,upper))\n",
    "for i in range(lower,upper+1):\n",
    "    happy_num = i\n",
    "    while(happy_num != 1 and happy_num != 4):\n",
    "        happy_num = check_happy(happy_num)\n",
    "    if(happy_num == 1):\n",
    "        print(i,end=\" \")"
   ]
  },
  {
   "cell_type": "code",
   "execution_count": null,
   "metadata": {},
   "outputs": [],
   "source": [
    "Q5. Write a Python program to determine whether the given number is a Harshad Number?\n",
    "\n",
    "Solution :- "
   ]
  },
  {
   "cell_type": "code",
   "execution_count": 31,
   "metadata": {},
   "outputs": [
    {
     "name": "stdout",
     "output_type": "stream",
     "text": [
      "Enter number: 154\n",
      "154 is Not Harshad Number\n"
     ]
    }
   ],
   "source": [
    "number = int(input('Enter number: '))\n",
    "copy = number\n",
    "digit_sum = 0\n",
    "\n",
    "while number:\n",
    "    digit_sum += number%10\n",
    "    number //= 10\n",
    "if copy%digit_sum == 0:\n",
    "    print('%d is Harshad Number' % (copy))\n",
    "else:\n",
    "    print('%d is Not Harshad Number' % (copy))"
   ]
  },
  {
   "cell_type": "code",
   "execution_count": null,
   "metadata": {},
   "outputs": [],
   "source": [
    "Q6. Write a Python program to print all pronic numbers between 1 and 100?\n",
    "\n",
    "Solution :- "
   ]
  },
  {
   "cell_type": "code",
   "execution_count": 33,
   "metadata": {},
   "outputs": [
    {
     "name": "stdout",
     "output_type": "stream",
     "text": [
      "Enter a number: 20\n",
      "Pronic number\n"
     ]
    }
   ],
   "source": [
    "n = int(input(\"Enter a number: \"))\n",
    "f = 0\n",
    "for i in range(n):\n",
    "    if i * (i + 1) == n:\n",
    "        f = 1\n",
    "        break\n",
    "if f==1:\n",
    "    print(\"Pronic number\")\n",
    "else:\n",
    "    print(\"Not a Pronic number\")"
   ]
  },
  {
   "cell_type": "code",
   "execution_count": null,
   "metadata": {},
   "outputs": [],
   "source": []
  }
 ],
 "metadata": {
  "kernelspec": {
   "display_name": "Python 3",
   "language": "python",
   "name": "python3"
  },
  "language_info": {
   "codemirror_mode": {
    "name": "ipython",
    "version": 3
   },
   "file_extension": ".py",
   "mimetype": "text/x-python",
   "name": "python",
   "nbconvert_exporter": "python",
   "pygments_lexer": "ipython3",
   "version": "3.8.5"
  }
 },
 "nbformat": 4,
 "nbformat_minor": 4
}
