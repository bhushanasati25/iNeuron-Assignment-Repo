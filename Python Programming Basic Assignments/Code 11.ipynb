{
 "cells": [
  {
   "cell_type": "code",
   "execution_count": null,
   "metadata": {},
   "outputs": [],
   "source": [
    "Q1. Write a Python program to find words which are greater than given length k?\n",
    "\n",
    "Solution :- "
   ]
  },
  {
   "cell_type": "code",
   "execution_count": 3,
   "metadata": {},
   "outputs": [
    {
     "name": "stdout",
     "output_type": "stream",
     "text": [
      "Enter the string : Write a Python program to find words which are greater than given length k?\n",
      "Enter k  (value for accepting string) : 5\n",
      "All words which are greater than given length  5 are  ['Python', 'program', 'greater', 'length']\n"
     ]
    }
   ],
   "source": [
    "myStr =  input('Enter the string : ')\n",
    "k = int(input('Enter k  (value for accepting string) : '))\n",
    "largerStrings = []\n",
    "words = myStr.split(\" \")\n",
    "for word in words:\n",
    "    if len(word) > k:\n",
    "        largerStrings.append(word)\n",
    "print(\"All words which are greater than given length \", k, \"are \", largerStrings)"
   ]
  },
  {
   "cell_type": "code",
   "execution_count": null,
   "metadata": {},
   "outputs": [],
   "source": [
    "Q2. Write a Python program for removing i-th character from a string?\n",
    "\n",
    "Solution :- "
   ]
  },
  {
   "cell_type": "code",
   "execution_count": 8,
   "metadata": {},
   "outputs": [
    {
     "name": "stdout",
     "output_type": "stream",
     "text": [
      "Enter the string : Hello World\n",
      "Enter the index of character to be removed : 5\n",
      "Entered string : Hello World\n",
      "String formed by removing i'th character : HelloWorld\n"
     ]
    }
   ],
   "source": [
    "myStr =  input('Enter the string : ')\n",
    "intp = int(input('Enter the index of character to be removed : '))\n",
    "resStr = \"\"\n",
    "for i in range(len(myStr)):\n",
    "    if i != intp:\n",
    "        resStr = resStr + myStr[i] \n",
    "print (\"Entered string : \" + myStr)\n",
    "print (\"String formed by removing i'th character : \" + resStr)"
   ]
  },
  {
   "cell_type": "code",
   "execution_count": null,
   "metadata": {},
   "outputs": [],
   "source": [
    "Q3. Write a Python program to split and join a string?\n",
    "\n",
    "Solution :-"
   ]
  },
  {
   "cell_type": "code",
   "execution_count": 12,
   "metadata": {},
   "outputs": [],
   "source": [
    "def join(b):\n",
    "    slt = b.split()\n",
    "    print(\"Split String : \",slt)\n",
    "    join  = ' '.join(slt)\n",
    "    print(\"joined String: \",join)"
   ]
  },
  {
   "cell_type": "code",
   "execution_count": 13,
   "metadata": {},
   "outputs": [
    {
     "name": "stdout",
     "output_type": "stream",
     "text": [
      "Split String :  ['Write', 'a', 'Python', 'program', 'to', 'split', 'and', 'join', 'a', 'string']\n",
      "joined String:  Write a Python program to split and join a string\n"
     ]
    }
   ],
   "source": [
    "join(\"Write a Python program to split and join a string\")"
   ]
  },
  {
   "cell_type": "code",
   "execution_count": null,
   "metadata": {},
   "outputs": [],
   "source": [
    "Q4. Write a Python to check if a given string is binary string or not?\n",
    "\n",
    "Solution :- "
   ]
  },
  {
   "cell_type": "code",
   "execution_count": 26,
   "metadata": {},
   "outputs": [
    {
     "name": "stdout",
     "output_type": "stream",
     "text": [
      "Enter the binary string : 0101\n",
      "This is binary string\n"
     ]
    }
   ],
   "source": [
    "Str =  input('Enter the binary string : ')\n",
    "for char in Str :\n",
    "    if(char == '0' or char == '1'):\n",
    "        print(\"This is binary string\")\n",
    "        break\n",
    "    else :\n",
    "        print(\"This string is not binary string\")\n",
    "        break"
   ]
  },
  {
   "cell_type": "code",
   "execution_count": null,
   "metadata": {},
   "outputs": [],
   "source": [
    "Q5. Write a Python program to find uncommon words from two Strings?\n",
    "\n",
    "Solution :- "
   ]
  },
  {
   "cell_type": "code",
   "execution_count": 29,
   "metadata": {},
   "outputs": [
    {
     "name": "stdout",
     "output_type": "stream",
     "text": [
      "Enter first string : Write a Python program to from two Strings\n",
      "Enter second string : uncommon words from two Strings\n",
      "All uncommon words from both the string are  ['Write', 'a', 'Python', 'program', 'to', 'uncommon', 'words']\n"
     ]
    }
   ],
   "source": [
    "str1 = input('Enter first string : ')\n",
    "str2 = input('Enter second string : ')\n",
    "count = {}\n",
    "for word in str1.split():\n",
    "    count[word] = count.get(word, 0) + 1\n",
    "for word in str2.split():\n",
    "    count[word] = count.get(word, 0) + 1\n",
    "\n",
    "uncommonWords =  [word for word in count if count[word] == 1] \n",
    "print(\"All uncommon words from both the string are \", uncommonWords)\n"
   ]
  },
  {
   "cell_type": "code",
   "execution_count": null,
   "metadata": {},
   "outputs": [],
   "source": [
    "Q6. Write a Python to find all duplicate characters in string?\n",
    "\n",
    "Solution :- "
   ]
  },
  {
   "cell_type": "code",
   "execution_count": 31,
   "metadata": {},
   "outputs": [
    {
     "name": "stdout",
     "output_type": "stream",
     "text": [
      "h s a\n"
     ]
    }
   ],
   "source": [
    "string = \"BhushanAsati\"\n",
    "duplicates = []\n",
    "for char in string:\n",
    "    if string.count(char) > 1:\n",
    "        if char not in duplicates:\n",
    "            duplicates.append(char)\n",
    "print(*duplicates)"
   ]
  },
  {
   "cell_type": "code",
   "execution_count": null,
   "metadata": {},
   "outputs": [],
   "source": [
    "Q7. Write a Python Program to check if a string contains any special character?\n",
    "\n",
    "Solution :- "
   ]
  },
  {
   "cell_type": "code",
   "execution_count": 35,
   "metadata": {},
   "outputs": [],
   "source": [
    "import re\n",
    "def check_splchar(test):\n",
    "    string_check= re.compile('[@_!#$%^&*()<>?/\\|}{~:]')\n",
    "    if(string_check.search(test) == None):\n",
    "        print(\"String does not contain Special Characters.\") \n",
    "    else: \n",
    "        print(\"String contains Special Characters.\")"
   ]
  },
  {
   "cell_type": "code",
   "execution_count": 36,
   "metadata": {},
   "outputs": [
    {
     "name": "stdout",
     "output_type": "stream",
     "text": [
      "String contains Special Characters.\n"
     ]
    }
   ],
   "source": [
    "check_splchar(\"Bhush@nAsat!\")"
   ]
  },
  {
   "cell_type": "code",
   "execution_count": null,
   "metadata": {},
   "outputs": [],
   "source": []
  }
 ],
 "metadata": {
  "kernelspec": {
   "display_name": "Python 3",
   "language": "python",
   "name": "python3"
  },
  "language_info": {
   "codemirror_mode": {
    "name": "ipython",
    "version": 3
   },
   "file_extension": ".py",
   "mimetype": "text/x-python",
   "name": "python",
   "nbconvert_exporter": "python",
   "pygments_lexer": "ipython3",
   "version": "3.8.5"
  }
 },
 "nbformat": 4,
 "nbformat_minor": 4
}
