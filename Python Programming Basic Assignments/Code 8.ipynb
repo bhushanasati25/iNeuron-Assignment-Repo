{
 "cells": [
  {
   "cell_type": "code",
   "execution_count": null,
   "metadata": {},
   "outputs": [],
   "source": [
    "Q1. Write a Python Program to Add Two Matrices?\n",
    "\n",
    "Solution :- "
   ]
  },
  {
   "cell_type": "code",
   "execution_count": 1,
   "metadata": {},
   "outputs": [
    {
     "name": "stdout",
     "output_type": "stream",
     "text": [
      "Enter the Number of rows : 2\n",
      "Enter the Number of Columns: 2\n",
      "Enter the elements of First Matrix:\n",
      "1\n",
      "2\n",
      "3\n",
      "4\n",
      "First Matrix is: \n",
      "[1, 2]\n",
      "[3, 4]\n",
      "Enter the elements of Second Matrix:\n",
      "1\n",
      "2\n",
      "3\n",
      "4\n",
      "[1, 2]\n",
      "[3, 4]\n",
      "The Sum of Above two Matrices is : \n",
      "[2, 4]\n",
      "[6, 8]\n"
     ]
    }
   ],
   "source": [
    "rows = int(input(\"Enter the Number of rows : \" ))\n",
    "column = int(input(\"Enter the Number of Columns: \"))\n",
    "\n",
    "print(\"Enter the elements of First Matrix:\")\n",
    "matrix_a= [[int(input()) for i in range(column)] for i in range(rows)]\n",
    "print(\"First Matrix is: \")\n",
    "for n in matrix_a:\n",
    "    print(n)\n",
    "\n",
    "print(\"Enter the elements of Second Matrix:\")\n",
    "matrix_b= [[int(input()) for i in range(column)] for i in range(rows)]\n",
    "for n in matrix_b:\n",
    "    print(n)\n",
    "    \n",
    "result=[[0 for i in range(column)] for i in range(rows)]\n",
    "\n",
    "for i in range(rows):\n",
    "    for j in range(column):\n",
    "        result[i][j] = matrix_a[i][j]+matrix_b[i][j]\n",
    "\n",
    "print(\"The Sum of Above two Matrices is : \")\n",
    "for r in result:\n",
    "    print(r)"
   ]
  },
  {
   "cell_type": "code",
   "execution_count": null,
   "metadata": {},
   "outputs": [],
   "source": [
    "Q2. Write a Python Program to Multiply Two Matrices?\n",
    "\n",
    "Solution :- "
   ]
  },
  {
   "cell_type": "code",
   "execution_count": 3,
   "metadata": {},
   "outputs": [
    {
     "name": "stdout",
     "output_type": "stream",
     "text": [
      "Enter the Number of rows : 2\n",
      "Enter the Number of Columns: 2\n",
      "Enter the elements of First Matrix:\n",
      "1\n",
      "2\n",
      "3\n",
      "4\n",
      "First Matrix is: \n",
      "[1, 2]\n",
      "[3, 4]\n",
      "Enter the elements of Second Matrix:\n",
      "1\n",
      "2\n",
      "3\n",
      "4\n",
      "[1, 2]\n",
      "[3, 4]\n",
      "The Multiplication of Above two Matrices is : \n",
      "[1, 4]\n",
      "[9, 16]\n"
     ]
    }
   ],
   "source": [
    "rows = int(input(\"Enter the Number of rows : \" ))\n",
    "column = int(input(\"Enter the Number of Columns: \"))\n",
    "\n",
    "print(\"Enter the elements of First Matrix:\")\n",
    "matrix_a= [[int(input()) for i in range(column)] for i in range(rows)]\n",
    "print(\"First Matrix is: \")\n",
    "for n in matrix_a:\n",
    "    print(n)\n",
    "\n",
    "print(\"Enter the elements of Second Matrix:\")\n",
    "matrix_b= [[int(input()) for i in range(column)] for i in range(rows)]\n",
    "for n in matrix_b:\n",
    "    print(n)\n",
    "    \n",
    "result=[[0 for i in range(column)] for i in range(rows)]\n",
    "\n",
    "for i in range(rows):\n",
    "    for j in range(column):\n",
    "        result[i][j] = matrix_a[i][j] * matrix_b[i][j]\n",
    "\n",
    "print(\"The Multiplication of Above two Matrices is : \")\n",
    "for r in result:\n",
    "    print(r)"
   ]
  },
  {
   "cell_type": "code",
   "execution_count": null,
   "metadata": {},
   "outputs": [],
   "source": [
    "Q3. Write a Python Program to Transpose a Matrix?\n",
    "\n",
    "Solution :- "
   ]
  },
  {
   "cell_type": "code",
   "execution_count": 4,
   "metadata": {},
   "outputs": [
    {
     "name": "stdout",
     "output_type": "stream",
     "text": [
      "Enter the Number of rows : 2\n",
      "Enter the Number of Columns: 2\n",
      "Enter the elements of Matrix:\n",
      "1\n",
      "2\n",
      "3\n",
      "4\n",
      "-------Enterd Matrix is---------\n",
      "[1, 2]\n",
      "[3, 4]\n",
      "Transpose matrix is: \n",
      "[1, 3]\n",
      "[2, 4]\n"
     ]
    }
   ],
   "source": [
    "rows = int(input(\"Enter the Number of rows : \" ))\n",
    "column = int(input(\"Enter the Number of Columns: \"))\n",
    "\n",
    "print(\"Enter the elements of Matrix:\")\n",
    "matrix= [[int(input()) for i in range(column)] for i in range(rows)]\n",
    "print(\"-------Enterd Matrix is---------\")\n",
    "for n in matrix:\n",
    "    print(n)\n",
    "\n",
    "result =[[0 for i in range(rows)] for j in range(column)]\n",
    "\n",
    "#transpose the matrix\n",
    "for r in range(rows):\n",
    "   \n",
    "   for c in range(column):\n",
    "      \n",
    "       result[c][r] = matrix[r][c]\n",
    "\n",
    "print(\"Transpose matrix is: \")\n",
    "for r in result:\n",
    "    print(r)"
   ]
  },
  {
   "cell_type": "code",
   "execution_count": null,
   "metadata": {},
   "outputs": [],
   "source": [
    "Q4. Write a Python Program to Sort Words in Alphabetic Order?\n",
    "\n",
    "Solution :- "
   ]
  },
  {
   "cell_type": "code",
   "execution_count": 14,
   "metadata": {},
   "outputs": [
    {
     "name": "stdout",
     "output_type": "stream",
     "text": [
      "Enter a string: Python is an interpreted high-level general-purpose programming language. Python's design philosophy emphasizes code readability with its notable use of significant indentation. Its language constructs as well as its object-oriented approach aim to help programmers write clear, logical code for small and large-scale projects\n",
      "The sorted words are:\n",
      "aim\n",
      "an\n",
      "and\n",
      "approach\n",
      "as\n",
      "as\n",
      "clear,\n",
      "code\n",
      "code\n",
      "constructs\n",
      "design\n",
      "emphasizes\n",
      "for\n",
      "general-purpose\n",
      "help\n",
      "high-level\n",
      "indentation.\n",
      "interpreted\n",
      "is\n",
      "its\n",
      "its\n",
      "its\n",
      "language\n",
      "language.\n",
      "large-scale\n",
      "logical\n",
      "notable\n",
      "object-oriented\n",
      "of\n",
      "philosophy\n",
      "programmers\n",
      "programming\n",
      "projects\n",
      "python\n",
      "python's\n",
      "readability\n",
      "significant\n",
      "small\n",
      "to\n",
      "use\n",
      "well\n",
      "with\n",
      "write\n"
     ]
    }
   ],
   "source": [
    "my_str = input(\"Enter a string: \")\n",
    "words = [word.lower() for word in my_str.split()]\n",
    "words.sort()\n",
    "print(\"The sorted words are:\")\n",
    "for word in words:\n",
    "    print(word)"
   ]
  },
  {
   "cell_type": "code",
   "execution_count": null,
   "metadata": {},
   "outputs": [],
   "source": [
    "Q5. Write a Python Program to Remove Punctuation From a String?\n",
    "\n",
    "Solution :- "
   ]
  },
  {
   "cell_type": "code",
   "execution_count": 16,
   "metadata": {},
   "outputs": [
    {
     "name": "stdout",
     "output_type": "stream",
     "text": [
      "Enter a string: B@hu$shan*1234*9*&$&##&@&#\n",
      "Punctuation Free String:  Bhushan12349\n"
     ]
    }
   ],
   "source": [
    "punctuations = '''!()-[]{};:'\"\\,<>./?@#$%^&*_~'''\n",
    " \n",
    "inp_str = input(\"Enter a string: \")\n",
    " \n",
    "no_punc = \"\"\n",
    "for char in inp_str:\n",
    "    if char not in punctuations:\n",
    "        no_punc = no_punc + char\n",
    "print(\"Punctuation Free String: \",no_punc)"
   ]
  },
  {
   "cell_type": "code",
   "execution_count": null,
   "metadata": {},
   "outputs": [],
   "source": []
  }
 ],
 "metadata": {
  "kernelspec": {
   "display_name": "Python 3",
   "language": "python",
   "name": "python3"
  },
  "language_info": {
   "codemirror_mode": {
    "name": "ipython",
    "version": 3
   },
   "file_extension": ".py",
   "mimetype": "text/x-python",
   "name": "python",
   "nbconvert_exporter": "python",
   "pygments_lexer": "ipython3",
   "version": "3.8.5"
  }
 },
 "nbformat": 4,
 "nbformat_minor": 4
}
