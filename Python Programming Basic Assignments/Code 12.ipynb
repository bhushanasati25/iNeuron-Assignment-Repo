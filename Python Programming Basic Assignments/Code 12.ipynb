{
 "cells": [
  {
   "cell_type": "code",
   "execution_count": null,
   "metadata": {},
   "outputs": [],
   "source": [
    "Q1. Write a Python program to Extract Unique values dictionary values?\n",
    "\n",
    "Solution :- "
   ]
  },
  {
   "cell_type": "code",
   "execution_count": 3,
   "metadata": {},
   "outputs": [
    {
     "name": "stdout",
     "output_type": "stream",
     "text": [
      "['Bhushan', 'Asati', 'King']\n"
     ]
    }
   ],
   "source": [
    "dict = {'1':'Bhushan','2':'Asati','3':'King','4':'King','5':'Bhushan'}\n",
    "list1 =[] # create empty list\n",
    "for val in dict.values(): \n",
    "    if val in list1: \n",
    "        continue \n",
    "    else:\n",
    "        list1.append(val)\n",
    "\n",
    "print(list1)"
   ]
  },
  {
   "cell_type": "code",
   "execution_count": null,
   "metadata": {},
   "outputs": [],
   "source": [
    "Q2. Write a Python program to find the sum of all items in a dictionary?\n",
    "\n",
    "Solution :- "
   ]
  },
  {
   "cell_type": "code",
   "execution_count": 5,
   "metadata": {},
   "outputs": [
    {
     "name": "stdout",
     "output_type": "stream",
     "text": [
      "dict :  {'1': 1, '2': 2, '3': 3, '4': 4, '5': 5}\n",
      "values  dict_values([1, 2, 3, 4, 5])\n",
      "Sum of all itmes :  15\n"
     ]
    }
   ],
   "source": [
    "dict1 = {'1' : 1,'2' : 2,'3' : 3,'4' : 4,'5' : 5}\n",
    "\n",
    "print(\"dict : \",dict1)\n",
    "print(\"values \",dict1.values())\n",
    "\n",
    "sum1 = sum(dict1.values())\n",
    "\n",
    "print(\"Sum of all itmes : \",sum1)"
   ]
  },
  {
   "cell_type": "code",
   "execution_count": null,
   "metadata": {},
   "outputs": [],
   "source": [
    "Q3. Write a Python program to Merging two Dictionaries?\n",
    "\n",
    "Solution :-"
   ]
  },
  {
   "cell_type": "code",
   "execution_count": 9,
   "metadata": {},
   "outputs": [
    {
     "name": "stdout",
     "output_type": "stream",
     "text": [
      "{1: 'a', 2: 'b', 3: 'c', 4: 'd'}\n"
     ]
    }
   ],
   "source": [
    "dict1 = {1: 'a', 2: 'b'}\n",
    "dict2 = {3: 'c', 4: 'd'}\n",
    "\n",
    "dict1.update(dict2)\n",
    "print(dict1)"
   ]
  },
  {
   "cell_type": "code",
   "execution_count": null,
   "metadata": {},
   "outputs": [],
   "source": [
    "Q4. Write a Python program to convert key-values list to flat dictionary?\n",
    "\n",
    "\n",
    "Solution :- "
   ]
  },
  {
   "cell_type": "code",
   "execution_count": 19,
   "metadata": {},
   "outputs": [
    {
     "name": "stdout",
     "output_type": "stream",
     "text": [
      "{'a': 1, 'b': 2, 'c': 3}\n"
     ]
    }
   ],
   "source": [
    "def key1(val):\n",
    "    res_dct = {val[i]: val[i + 1] for i in range(0, len(val), 2)}\n",
    "    return res_dct\n",
    "value = ['a', 1, 'b', 2, 'c', 3]\n",
    "print(key1(value))"
   ]
  },
  {
   "cell_type": "code",
   "execution_count": null,
   "metadata": {},
   "outputs": [],
   "source": [
    "Q5. Write a Python program to insertion at the beginning in OrderedDict.?\n",
    "\n",
    "Solution :- "
   ]
  },
  {
   "cell_type": "code",
   "execution_count": 22,
   "metadata": {},
   "outputs": [
    {
     "name": "stdout",
     "output_type": "stream",
     "text": [
      "OrderdDict : OrderedDict([('Asati', '3'), ('Bhushan', '1'), ('King', '2')])\n"
     ]
    }
   ],
   "source": [
    "from collections import OrderedDict  \n",
    "dict1 = OrderedDict([('Bhushan', '1'), ('King', '2')])\n",
    "dict1.update({'Asati':'3'})\n",
    "dict1.move_to_end('Asati', last = False)\n",
    "print (\"OrderdDict : \"+str(dict1))"
   ]
  },
  {
   "cell_type": "code",
   "execution_count": null,
   "metadata": {},
   "outputs": [],
   "source": [
    "Q6. Write a Python program to check order of character in string using OrderedDict()?\n",
    "\n",
    "Solution :- "
   ]
  },
  {
   "cell_type": "code",
   "execution_count": 24,
   "metadata": {},
   "outputs": [
    {
     "name": "stdout",
     "output_type": "stream",
     "text": [
      "{'g': 10, 's': 20, 'e': 30, 'b': 40, 't': 50, 'z': 60}\n",
      "OrderedDict([('b', 40), ('e', 30), ('g', 10), ('s', 20), ('t', 50), ('z', 60)])\n"
     ]
    }
   ],
   "source": [
    "dict1 = {'g': 10, 's': 20, 'e': 30, 'b': 40, 't': 50, 'z': 60}\n",
    "print(dict1)\n",
    "ordereddict = OrderedDict(sorted(dict1.items()))\n",
    "print(ordereddict)"
   ]
  },
  {
   "cell_type": "code",
   "execution_count": null,
   "metadata": {},
   "outputs": [],
   "source": [
    "Q7. Write a Python program to sort Python Dictionaries by Key or Value?\n",
    "\n",
    "Solution :- "
   ]
  },
  {
   "cell_type": "code",
   "execution_count": null,
   "metadata": {},
   "outputs": [],
   "source": [
    "7. Write a Python program to sort Python Dictionaries by Key or Value?\n",
    "\n",
    "Solution :- "
   ]
  },
  {
   "cell_type": "code",
   "execution_count": 26,
   "metadata": {},
   "outputs": [
    {
     "name": "stdout",
     "output_type": "stream",
     "text": [
      "OrderedDict([('AI', '2'), ('Asati', '9'), ('Bhushan', '10'), ('ML', '32'), ('iNeuron', '15')])\n"
     ]
    }
   ],
   "source": [
    "from collections import OrderedDict\n",
    "\n",
    "dict = {'Bhushan':'10','Asati':'9','iNeuron':'15','AI':'2','ML':'32'}\n",
    "dict1 = OrderedDict(sorted(dict.items()))\n",
    "print(dict1)"
   ]
  },
  {
   "cell_type": "code",
   "execution_count": null,
   "metadata": {},
   "outputs": [],
   "source": []
  }
 ],
 "metadata": {
  "kernelspec": {
   "display_name": "Python 3",
   "language": "python",
   "name": "python3"
  },
  "language_info": {
   "codemirror_mode": {
    "name": "ipython",
    "version": 3
   },
   "file_extension": ".py",
   "mimetype": "text/x-python",
   "name": "python",
   "nbconvert_exporter": "python",
   "pygments_lexer": "ipython3",
   "version": "3.8.5"
  }
 },
 "nbformat": 4,
 "nbformat_minor": 4
}
