{
 "cells": [
  {
   "cell_type": "code",
   "execution_count": null,
   "metadata": {},
   "outputs": [],
   "source": [
    "Q1. Write a Python program to find sum of elements in list?\n",
    "\n",
    "Solution :- "
   ]
  },
  {
   "cell_type": "code",
   "execution_count": 3,
   "metadata": {},
   "outputs": [
    {
     "name": "stdout",
     "output_type": "stream",
     "text": [
      "Sum of all Element :- 36\n"
     ]
    }
   ],
   "source": [
    "def sum_list(items):\n",
    "    sum_numbers = 0\n",
    "    for x in items:\n",
    "        sum_numbers += x\n",
    "    return sum_numbers\n",
    "print(\"Sum of all Element :-\",sum_list([1,2,8,9,5,4,7]))"
   ]
  },
  {
   "cell_type": "code",
   "execution_count": null,
   "metadata": {},
   "outputs": [],
   "source": [
    "Q2. Write a Python program to  Multiply all numbers in the list?\n",
    "\n",
    "Solution :- "
   ]
  },
  {
   "cell_type": "code",
   "execution_count": 9,
   "metadata": {},
   "outputs": [
    {
     "name": "stdout",
     "output_type": "stream",
     "text": [
      "Multiplication of all Element :- 420\n"
     ]
    }
   ],
   "source": [
    "def mul_list(items):\n",
    "    mul_numbers = 1\n",
    "    for x in items:\n",
    "        mul_numbers *= x\n",
    "    return mul_numbers\n",
    "print(\"Multiplication of all Element :-\",mul_list([2,2,3,5,7]))"
   ]
  },
  {
   "cell_type": "code",
   "execution_count": null,
   "metadata": {},
   "outputs": [],
   "source": [
    "Q3. Write a Python program to find smallest number in a list?\n",
    "\n",
    "Solution :- "
   ]
  },
  {
   "cell_type": "code",
   "execution_count": 12,
   "metadata": {},
   "outputs": [
    {
     "name": "stdout",
     "output_type": "stream",
     "text": [
      "Smallest element is: 10\n"
     ]
    }
   ],
   "source": [
    "list1 = [10, 20,45, 99,100,200,54,86,758]\n",
    "list1.sort()\n",
    "print(\"Smallest element is:\", *list1[:1])"
   ]
  },
  {
   "cell_type": "code",
   "execution_count": null,
   "metadata": {},
   "outputs": [],
   "source": [
    "Q4. Write a Python program to find largest number in a list ?\n",
    "\n",
    "Solution :- "
   ]
  },
  {
   "cell_type": "code",
   "execution_count": 17,
   "metadata": {},
   "outputs": [
    {
     "name": "stdout",
     "output_type": "stream",
     "text": [
      "100\n"
     ]
    }
   ],
   "source": [
    "def max_num( list ):\n",
    "    max = list[ 0 ]\n",
    "    for a in list:\n",
    "        if a > max:\n",
    "            max = a\n",
    "    return max\n",
    "print(max_num([1, 2, -8, 0,5,77,4,22,100]))"
   ]
  },
  {
   "cell_type": "code",
   "execution_count": null,
   "metadata": {},
   "outputs": [],
   "source": [
    "Q5. Write a Python program to find second largest number in a list?\n",
    "\n",
    "Solution :- "
   ]
  },
  {
   "cell_type": "code",
   "execution_count": 19,
   "metadata": {},
   "outputs": [
    {
     "name": "stdout",
     "output_type": "stream",
     "text": [
      "Second largest number is: 45\n"
     ]
    }
   ],
   "source": [
    "list1 = [10, 20, 4, 45, 99]\n",
    "\n",
    "list1.sort()\n",
    "print(\"Second largest number is:\", list1[-2])"
   ]
  },
  {
   "cell_type": "code",
   "execution_count": null,
   "metadata": {},
   "outputs": [],
   "source": [
    "Q6. Write a Python program to find N largest elements from a list?\n",
    "\n",
    "Solution :- "
   ]
  },
  {
   "cell_type": "code",
   "execution_count": 21,
   "metadata": {},
   "outputs": [
    {
     "name": "stdout",
     "output_type": "stream",
     "text": [
      "[200, 298, 900, 1000, 3579]\n"
     ]
    }
   ],
   "source": [
    "l = [1000,298,3579,100,200,-45,900]\n",
    "n = 5\n",
    "l.sort()\n",
    "print(l[-n:])\n"
   ]
  },
  {
   "cell_type": "code",
   "execution_count": null,
   "metadata": {},
   "outputs": [],
   "source": [
    "Q7. Write a Python program to print even numbers in a list?\n",
    "\n",
    "Solution :- "
   ]
  },
  {
   "cell_type": "code",
   "execution_count": 25,
   "metadata": {},
   "outputs": [
    {
     "name": "stdout",
     "output_type": "stream",
     "text": [
      "2 4 6 8 "
     ]
    }
   ],
   "source": [
    "list1 = [1,2,3,4,5,6,7,8,9]\n",
    "for num in list1:\n",
    "    if num % 2 == 0:\n",
    "        print(num, end = \" \")"
   ]
  },
  {
   "cell_type": "code",
   "execution_count": null,
   "metadata": {},
   "outputs": [],
   "source": [
    "Q8. Write a Python program to print odd numbers in a List?\n",
    "\n",
    "Soluion :- "
   ]
  },
  {
   "cell_type": "code",
   "execution_count": 27,
   "metadata": {},
   "outputs": [
    {
     "name": "stdout",
     "output_type": "stream",
     "text": [
      "1 3 5 7 9 "
     ]
    }
   ],
   "source": [
    "list1 = [1,2,3,4,5,6,7,8,9]\n",
    "\n",
    "for num in list1:\n",
    "    if num % 2 != 0:\n",
    "        print(num, end = \" \")"
   ]
  },
  {
   "cell_type": "code",
   "execution_count": null,
   "metadata": {},
   "outputs": [],
   "source": [
    "Q9. Write a Python program to Remove empty List from List?\n",
    "\n",
    "Solution :- "
   ]
  },
  {
   "cell_type": "code",
   "execution_count": 30,
   "metadata": {},
   "outputs": [
    {
     "name": "stdout",
     "output_type": "stream",
     "text": [
      "List =  [[5], [54, 545, 9], [], [1, 4, 7], [], [8, 2, 5]]\n",
      "Updating List :  [[5], [54, 545, 9], [1, 4, 7], [8, 2, 5]]\n"
     ]
    }
   ],
   "source": [
    "List = [[5], [54, 545,9], [], [1, 4, 7], [], [8, 2, 5] ]\n",
    "print(\"List = \", end = \" \")\n",
    "print(List)\n",
    "nonEmptyList = [] \n",
    "nonEmptyList = list(filter(None, List))\n",
    "print(\"Updating List : \", end = \" \" )\n",
    "print(nonEmptyList)"
   ]
  },
  {
   "cell_type": "code",
   "execution_count": null,
   "metadata": {},
   "outputs": [],
   "source": [
    "Q10. Write a Python program to Cloning or Copying a list?\n",
    "\n",
    "Solution :- "
   ]
  },
  {
   "cell_type": "code",
   "execution_count": 32,
   "metadata": {},
   "outputs": [
    {
     "name": "stdout",
     "output_type": "stream",
     "text": [
      "Original List =  [40, 60, 80, 100, 120]\n",
      "New List =  [40, 60, 80, 100, 120]\n"
     ]
    }
   ],
   "source": [
    "orignalL = [40, 60, 80, 100, 120]\n",
    "print(\"Original List = \", orignalL)\n",
    "\n",
    "newList = orignalL\n",
    "print(\"New List = \", newList)"
   ]
  },
  {
   "cell_type": "code",
   "execution_count": null,
   "metadata": {},
   "outputs": [],
   "source": [
    "Q11. Write a Python program to Count occurrences of an element in a list?\n",
    "\n",
    "Solution :- "
   ]
  },
  {
   "cell_type": "code",
   "execution_count": 34,
   "metadata": {},
   "outputs": [
    {
     "name": "stdout",
     "output_type": "stream",
     "text": [
      "Enter size of list 10\n",
      "Enter element of list 1\n",
      "Enter element of list 2\n",
      "Enter element of list 3\n",
      "Enter element of list 5\n",
      "Enter element of list 2\n",
      "Enter element of list 2\n",
      "Enter element of list 3\n",
      "Enter element of list 5\n",
      "Enter element of list 5\n",
      "Enter element of list 4\n",
      "Original list:  [1, 2, 3, 5, 2, 2, 3, 5, 5, 4]\n",
      "Enter element to be checked list: 5\n",
      "5  has occurred  3 times\n"
     ]
    }
   ],
   "source": [
    "list1 = []\n",
    "num = int(input(\"Enter size of list \"))\n",
    "for i in range(0,num):\n",
    "    intp = int(input(\"Enter element of list \"))\n",
    "    list1.append(intp)\n",
    "print(\"Original list: \",list1)\n",
    "n=int(input(\"Enter element to be checked list: \"))\n",
    "print(n,\" has occurred \",list1.count(n),\"times\")"
   ]
  },
  {
   "cell_type": "code",
   "execution_count": null,
   "metadata": {},
   "outputs": [],
   "source": []
  }
 ],
 "metadata": {
  "kernelspec": {
   "display_name": "Python 3",
   "language": "python",
   "name": "python3"
  },
  "language_info": {
   "codemirror_mode": {
    "name": "ipython",
    "version": 3
   },
   "file_extension": ".py",
   "mimetype": "text/x-python",
   "name": "python",
   "nbconvert_exporter": "python",
   "pygments_lexer": "ipython3",
   "version": "3.8.5"
  }
 },
 "nbformat": 4,
 "nbformat_minor": 4
}
