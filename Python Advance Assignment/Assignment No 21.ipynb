{
 "cells": [
  {
   "cell_type": "markdown",
   "id": "de99e3b7",
   "metadata": {},
   "source": [
    "**Q1. What is a probability distribution, exactly? If the values are meant to be random, how can you predict them at all ?**\n",
    "\n",
    "Solution :- A probability distribution describes how a random variable is distributed.\n",
    "\n",
    "It tells us which values a random variable is most likely to take on and which values are less likely. Based on the previous data and the occurences of the random event, we can predict the outcome in terms of probabilities.\n",
    "\n"
   ]
  },
  {
   "cell_type": "markdown",
   "id": "ade74c15",
   "metadata": {},
   "source": [
    "**Q2. Is there a distinction between true random numbers and pseudo-random numbers, if there is one? Why are the latter considered “good enough”?**\n",
    "\n",
    "Solution :- True Random Numbers are true physical values while pseudo-random numbers are generated internally by a program . Latter is considered good enough as they have sort of uniform distribution.\n",
    "\n"
   ]
  },
  {
   "cell_type": "markdown",
   "id": "9340a5f1",
   "metadata": {},
   "source": [
    "**Q3. What are the two main factors that influence the behaviour of a \"normal\" probability distribution ?**\n",
    "\n",
    "Solution :- Normal Probability Distribution are influenced by two factors mean and the variance.\n",
    "\n"
   ]
  },
  {
   "cell_type": "markdown",
   "id": "b49a4a0c",
   "metadata": {},
   "source": [
    "**Q4. Provide a real-life example of a normal distribution ?**\n",
    "\n",
    "Solution :-  A Real-life example of a normal distribution are heights or blood pressure measurements\n"
   ]
  },
  {
   "cell_type": "markdown",
   "id": "1ea3ece2",
   "metadata": {},
   "source": [
    "**Q5. In the short term, how can you expect a probability distribution to behave? What do you think will happen as the number of trials grows ?**\n",
    "\n",
    "Solution :- Variance will decrease with number of trials"
   ]
  },
  {
   "cell_type": "markdown",
   "id": "156b57cd",
   "metadata": {},
   "source": [
    "**Q6. What kind of object can be shuffled by using random.shuffle ?**\n",
    "\n",
    "Solution :- lists (list), strings (str) and tuples (tuple) objects can be shuffled by using random.shuffle."
   ]
  },
  {
   "cell_type": "markdown",
   "id": "887218cb",
   "metadata": {},
   "source": [
    "**Q7. Describe the math package's general categories of functions ?**\n",
    "\n",
    "Solution :- The Math package's general categories of functions are:\n",
    "\n",
    "- Trigonometric functions\n",
    "- Quadratic functions\n",
    "- Exponential functions\n",
    "- Hyperbolic functions\n",
    "- Periodic functions\n",
    "- Arithmetic functions\n",
    "- Logarithimic functions\n",
    "- Conversions to Integer"
   ]
  },
  {
   "cell_type": "markdown",
   "id": "e891b72a",
   "metadata": {},
   "source": [
    "**Q8. What is the relationship between exponentiation and logarithms ?**\n",
    "\n",
    "Solution :- Exponentiation and logarithms are inverse of each other."
   ]
  },
  {
   "cell_type": "markdown",
   "id": "ca4aa5d3",
   "metadata": {},
   "source": [
    "**Q9. What are the three logarithmic functions that Python supports ?**\n",
    "Solution :- The Three Logarithmic Functions that Python supports are:\n",
    "\n",
    "- log2(x) - logarithmic value of x to base 2\n",
    "- log10(x) - logarithmic value of x to base 10\n",
    "- log1p(a) - This function is used to compute logarithm(1+a) ."
   ]
  }
 ],
 "metadata": {
  "kernelspec": {
   "display_name": "Python 3 (ipykernel)",
   "language": "python",
   "name": "python3"
  },
  "language_info": {
   "codemirror_mode": {
    "name": "ipython",
    "version": 3
   },
   "file_extension": ".py",
   "mimetype": "text/x-python",
   "name": "python",
   "nbconvert_exporter": "python",
   "pygments_lexer": "ipython3",
   "version": "3.8.10"
  }
 },
 "nbformat": 4,
 "nbformat_minor": 5
}
