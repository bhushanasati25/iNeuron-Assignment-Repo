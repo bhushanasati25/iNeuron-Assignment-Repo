{
 "cells": [
  {
   "cell_type": "markdown",
   "id": "6fa9a885",
   "metadata": {},
   "source": [
    "**Q1. Describe the differences between text and binary files in a single paragraph.**\n",
    "\n",
    "Solution :- The differences between Text Files and Binary Files are:\n",
    "\n",
    "Text files are special subset of binary files that are used to store human readable characters as a rich text document or plain text document. Text files also store data in sequential bytes but bits in text file represents characters.\n",
    "\n",
    "Binary files are those typical files that store data in the form of sequence of bytes grouped into eight bits or sometimes sixteen bits. These bits represent custom data and such files can store multiple types of data (images, audio, text, etc) under a single file."
   ]
  },
  {
   "cell_type": "markdown",
   "id": "9ff7294d",
   "metadata": {},
   "source": [
    "**Q2. What are some scenarios where using text files will be the better option? When would you like to use binary files instead of text files?**\n",
    "\n",
    "Solution :- Text files are less prone to get corrupted as any undesired change may just show up once the file is opened and then can easily be removed. Whereas Use binary files instead of text files for image data."
   ]
  },
  {
   "cell_type": "markdown",
   "id": "eea6b0c9",
   "metadata": {},
   "source": [
    "**Q3. What are some of the issues with using binary operations to read and write a Python integer directly to disc?**\n",
    "\n",
    "Solution :- When we read or write a python integer using binary operations\n",
    "\n",
    "Binary operations deal with raw data\n",
    "One needs to identify how many bytes one would read or write.\n"
   ]
  },
  {
   "cell_type": "markdown",
   "id": "721cda9d",
   "metadata": {},
   "source": [
    "**Q4. Describe a benefit of using the with keyword instead of explicitly opening a file ?**\n",
    "\n",
    "Solution :-  When a file is opened using the with keyword, if some exceptions occur after opening a file, or at the end of the file it automatically does the closing of the file. There by not leaving an file in open mode and there would no need to explicitly close a file.\n",
    "\n"
   ]
  },
  {
   "cell_type": "markdown",
   "id": "9554b754",
   "metadata": {},
   "source": [
    "**Q5. Does Python have the trailing newline while reading a line of text? Does Python append a newline when you write a line of text?**\n",
    "\n",
    "Solution :- Yes, Python have the trailing newline while reading a line of text. When we write a newline has to be provided in python excpicitly.\n",
    "\n"
   ]
  },
  {
   "cell_type": "markdown",
   "id": "a3866f05",
   "metadata": {},
   "source": [
    "**Q6. What file operations enable for random-access operation?**\n",
    "\n",
    "Solution :- The file operations enable for random-access operation are seek() and tell()\n",
    "\n"
   ]
  },
  {
   "cell_type": "markdown",
   "id": "1a705a74",
   "metadata": {},
   "source": [
    "**Q7. When do you think you'll use the struct package the most?**\n",
    "\n",
    "Solution :- The struct package is mostly used while converting a common python types into C language types.\n",
    "\n"
   ]
  },
  {
   "cell_type": "markdown",
   "id": "4f26842d",
   "metadata": {},
   "source": [
    "**Q8. When is pickling the best option?**\n",
    "\n",
    "Solution :-  Pickling is best option for creating a new binary file using python.\n",
    "\n"
   ]
  },
  {
   "cell_type": "markdown",
   "id": "37249575",
   "metadata": {},
   "source": [
    "**Q9. When will it be best to use the shelve package?**\n",
    "\n",
    "Solution :- Shelve package is used to pickle data but treats the entire file as dictionary.\n",
    "\n"
   ]
  },
  {
   "cell_type": "markdown",
   "id": "19f0be05",
   "metadata": {},
   "source": [
    "**Q10. What is a special restriction when using the shelve package, as opposed to using other data dictionaries?**\n",
    "\n",
    "Solution :-Only string data type can be used as key in this special dictionary object, whereas any picklable Python object can be used as value."
   ]
  }
 ],
 "metadata": {
  "kernelspec": {
   "display_name": "Python 3 (ipykernel)",
   "language": "python",
   "name": "python3"
  },
  "language_info": {
   "codemirror_mode": {
    "name": "ipython",
    "version": 3
   },
   "file_extension": ".py",
   "mimetype": "text/x-python",
   "name": "python",
   "nbconvert_exporter": "python",
   "pygments_lexer": "ipython3",
   "version": "3.8.10"
  }
 },
 "nbformat": 4,
 "nbformat_minor": 5
}
