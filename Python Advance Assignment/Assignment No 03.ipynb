{
 "cells": [
  {
   "cell_type": "markdown",
   "id": "c8b5e8e1",
   "metadata": {},
   "source": [
    "**Q1. What is the concept of an abstract superclass?** \n",
    "\n",
    "Solution:- A common superclass for several subclasses. Factor up common behavior. Define the methods they all respond to. Methods that subclasses should implement are declared abstract."
   ]
  },
  {
   "cell_type": "markdown",
   "id": "6fd02060",
   "metadata": {},
   "source": [
    "**Q2 What happens when a class statement's top level contains a basic assignment statement?**\n",
    "\n",
    "Solution :- When a Class statement's top level contains a basic assignment statement, its usually treated as a class attribute or class level variable.\n",
    "\n",
    "where as assignment statements inside methods are treated as instance attributes or local attributes.\n",
    "\n",
    "When an instance of a class is created a single copy of class attributes is maintained and shared to all instances of class. where as each instance object maintains its own copy of instance variables."
   ]
  },
  {
   "cell_type": "markdown",
   "id": "84aac795",
   "metadata": {},
   "source": [
    "**Q3 Why does a class need to manually call a superclass's `__init__`** method?**\n",
    "\n",
    "Solution :- The main reason for always calling base class _init__ is that base class may typically create member variable and initialize them to defaults. So if you don't call base class init, none of that code would be executed and you would end up with base class that has no member variables."
   ]
  },
  {
   "cell_type": "markdown",
   "id": "b6f36100",
   "metadata": {},
   "source": [
    "**Q4 How can you augment, instead of completely replacing, an inherited method?**\n",
    "\n",
    "Solution :- super() method can be used to augment, instead of completely replacing, an inherited method"
   ]
  },
  {
   "cell_type": "markdown",
   "id": "aec863ae",
   "metadata": {},
   "source": [
    "**Q5 How is the local scope of a class different from that of a function?**\n",
    "\n",
    "Solution :- A Variable which is defined inside a function is local to that function. it is accesible from the point at which it is defined until the end of the function, and exists for as long as the function is existing.\n",
    "\n",
    "Similary a variable inside of a class also has a local variable scope. Variables which are defined in the class body (but outside all methods) are called as class level variables or class attributes. they can be referenced by there bare names within the same scope, but they can also be accessed from outside this scope if we use the attribute access operator `(.)`. on a class or an instance of the class."
   ]
  }
 ],
 "metadata": {
  "kernelspec": {
   "display_name": "Python 3 (ipykernel)",
   "language": "python",
   "name": "python3"
  },
  "language_info": {
   "codemirror_mode": {
    "name": "ipython",
    "version": 3
   },
   "file_extension": ".py",
   "mimetype": "text/x-python",
   "name": "python",
   "nbconvert_exporter": "python",
   "pygments_lexer": "ipython3",
   "version": "3.8.10"
  }
 },
 "nbformat": 4,
 "nbformat_minor": 5
}
