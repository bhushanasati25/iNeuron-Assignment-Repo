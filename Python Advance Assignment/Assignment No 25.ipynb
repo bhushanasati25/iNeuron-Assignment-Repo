{
 "cells": [
  {
   "cell_type": "markdown",
   "id": "6d674fe6",
   "metadata": {},
   "source": [
    "**Q1. What is the distinction between a numpy array and a pandas data frame? Is there a way to convert between the two if there is ?**\n",
    "\n",
    "\n",
    "Solution :-  Numpy Ndarray provides a lot of convenient and optimized methods for performing several mathematical operations on vectors.\n",
    "\n",
    "Pandas Dataframe is an in-memory 2-dimensional tabular representation of data. In simpler words, it can be seen as a spreadsheet having rows and columns.\n",
    "\n",
    "Conversion : Dataframe=pandas.DataFrame(array)\n",
    "\n"
   ]
  },
  {
   "cell_type": "markdown",
   "id": "4e2d6cc5",
   "metadata": {},
   "source": [
    "**Q2. Identify some of the plotting techniques that are used to produce a stock-market chart ?**\n",
    "\n",
    "\n",
    "Solution :-  Bar chart, Line Chart are used for plotting.\n",
    "\n"
   ]
  },
  {
   "cell_type": "markdown",
   "id": "bbf62a3c",
   "metadata": {},
   "source": [
    "**Q3. Why is it essential to print a legend on a stock market chart ?**\n",
    "\n",
    "\n",
    "Solution :-  Legend will help comparison between different stocks, so will be essential on a stock market chart\n",
    "\n"
   ]
  },
  {
   "cell_type": "markdown",
   "id": "b6f59a69",
   "metadata": {},
   "source": [
    "**Q4. What is the best way to limit the length of a pandas data frame to less than a year ?**\n",
    "\n",
    "Solution :-  We can use start and end parameters for that. In start we write the date from where we are starting and at the end we write the end date. SO within this span we can restric the duration.Also we can use the parameters like periods for how much times we need the duration and we can also use the frequency parameter.\n",
    "\n"
   ]
  },
  {
   "cell_type": "markdown",
   "id": "f9fa1f49",
   "metadata": {},
   "source": [
    "**Q5. What is the definition of a 180-day moving average ?**\n",
    "\n",
    "Solution :- The 180-day moving average is represented as a line on charts and represents the average price over the past 180 days. The moving average can give traders a sense regarding whether the trend is up or down, while also identifying potential support or resistance areas."
   ]
  }
 ],
 "metadata": {
  "kernelspec": {
   "display_name": "Python 3 (ipykernel)",
   "language": "python",
   "name": "python3"
  },
  "language_info": {
   "codemirror_mode": {
    "name": "ipython",
    "version": 3
   },
   "file_extension": ".py",
   "mimetype": "text/x-python",
   "name": "python",
   "nbconvert_exporter": "python",
   "pygments_lexer": "ipython3",
   "version": "3.8.10"
  }
 },
 "nbformat": 4,
 "nbformat_minor": 5
}
