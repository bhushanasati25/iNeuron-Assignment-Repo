{
 "cells": [
  {
   "cell_type": "markdown",
   "id": "9fbbe724",
   "metadata": {},
   "source": [
    "**Q1. What are the new features added in Python 3.8 version?**\n",
    "\n",
    "Solution :- Some New Features Added in Python 3.8 Version are:\n",
    "\n",
    "- Walrus Operator: This operator is used to assign and return a value in the same expression. This removes the need for initializing the variable upfront. The major benefit of this is it saves some lines of code. It is also known as The Walrus Operator due to its similarity to the eyes and tusks of a walrus.\n",
    "\n",
    "- yield and return statements do not require parentheses to return multiple values.\n",
    "\n",
    "- Reversed works with a dictionary. The built-in method reversed() can be used for accessing the elements in the reverse order of insertion\n",
    "\n",
    "- Dict comprehensions have been modified so that the key is computed first and the value second.\n",
    "\n",
    "- importlib_metadata is a new library added in the Python’s standard utility modules, that provides an API for accessing an installed package’s metadata, such as its entry points or its top-level name.\n",
    "\n",
    "- f-strings now support = , to make string interpolation easy. Python 3.8 allows the use of the above-discussed assignment operator and equal sign (=) inside the f-strings.\n",
    "\n",
    "- In the three-argument form of pow(), when the exponent is -1, it calculates the modular multiplicative inverse of the given value\n",
    "\n",
    "- The csv.DictReader now returns instances of dictionary instead of a collections.OrderedDict.\n",
    "\n",
    "- If you miss a comma in your code such as a = [(1, 2) (3, 4)], instead of throwing TypeError, it displays an informative Syntax warning."
   ]
  },
  {
   "cell_type": "markdown",
   "id": "185dd42d",
   "metadata": {},
   "source": [
    "**Q2. What is monkey patching in Python?**\n",
    "\n",
    "Solution :- In Python, the term monkey patch refers to making dynamic (or run-time) modifications to a class or module. In Python, we can actually change the behavior of code at run-time."
   ]
  },
  {
   "cell_type": "code",
   "execution_count": 1,
   "id": "4236b543",
   "metadata": {},
   "outputs": [
    {
     "name": "stdout",
     "output_type": "stream",
     "text": [
      "monkey_f() is being called\n"
     ]
    }
   ],
   "source": [
    "class A:\n",
    "    def func(self):\n",
    "        print(\"func() is being called\")\n",
    "\n",
    "def monkey_f(self):\n",
    "    print(\"monkey_f() is being called\")\n",
    "\n",
    "A.func = monkey_f\n",
    "some_object = A()\n",
    "some_object.func()"
   ]
  },
  {
   "cell_type": "markdown",
   "id": "0b538f78",
   "metadata": {},
   "source": [
    "**Q3. What is the difference between a shallow copy and deep copy?**\n",
    "\n",
    "Solution :- The Differences between a Shallow Copy and deep copy are as follows:\n",
    "\n",
    "- When an object is copied using copy(), it is called shallow copy as changes made in copied object will also make corresponding changes in original object, because both the objects will be referencing same address location.\n",
    "\n",
    "- When an object is copied using deepcopy(), it is called deep copy as changes made in copied object will not make corresponding changes in original object, because both the objects will not be referencing same address location."
   ]
  },
  {
   "cell_type": "markdown",
   "id": "e92b5b2e",
   "metadata": {},
   "source": [
    "**Q4. What is the maximum possible length of an identifier?**\n",
    "\n",
    "Solution :- In Python, the highest possible length of an identifier is 79 characters. Python is a high level programming language. It’s also a complex form and a collector of waste.\n",
    "\n",
    "- Python, particularly when combined with identifiers, is case-sensitive.\n",
    "- When writing or using identifiers in Python, it has a maximum of 79 characters.\n",
    "- Unlikely, Python gives the identifiers unlimited length.\n",
    "- However, the layout of PEP-8 prevents the user from breaking the rules and includes a 79-character limit."
   ]
  },
  {
   "cell_type": "markdown",
   "id": "76917644",
   "metadata": {},
   "source": [
    "**Q5. What is generator comprehension?**\n",
    "\n",
    "Solution :- A generator comprehension is a single-line specification for defining a generator in Python.\n",
    "\n",
    "- It is absolutely essential to learn this syntax in order to write simple and readable code.\n",
    "- Generator comprehension uses round bracket unlike square bracket in list comprehension.\n",
    "- The generator yields one item at a time and generates item only when in demand. Whereas, in a list comprehension, Python reserves memory for the whole list. Thus we can say that the generator expressions are memory efficient than the lists.\n"
   ]
  }
 ],
 "metadata": {
  "kernelspec": {
   "display_name": "Python 3 (ipykernel)",
   "language": "python",
   "name": "python3"
  },
  "language_info": {
   "codemirror_mode": {
    "name": "ipython",
    "version": 3
   },
   "file_extension": ".py",
   "mimetype": "text/x-python",
   "name": "python",
   "nbconvert_exporter": "python",
   "pygments_lexer": "ipython3",
   "version": "3.8.10"
  }
 },
 "nbformat": 4,
 "nbformat_minor": 5
}
