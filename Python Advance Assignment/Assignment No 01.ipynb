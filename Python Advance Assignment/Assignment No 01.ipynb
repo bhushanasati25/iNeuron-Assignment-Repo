{
 "cells": [
  {
   "cell_type": "markdown",
   "id": "48952d31",
   "metadata": {},
   "source": [
    "Q1 What is the purpose of Python's OOP?\n",
    "\n",
    "Solution :- Object-oriented programming is a programming paradigm that provides a means of structuring programs so that properties and behaviors are bundled into individual objects\n",
    "\n",
    "* In Python, object-oriented Programming (OOPs) uses objects and classes in programming.\n",
    "* It aims to implement real-world entities like inheritance, polymorphisms, encapsulation, etc. in the programming.\n",
    "* The main concept of OOPs is to bind the data and the functions that work on that together as a single unit so that no other part of the code can access this data.\n",
    "* It comes up with the following advantages:\n",
    "* It helps to divide our over all program into different small segments and thus making it solving easy with the use of objects\n",
    "* Helps in easy maintenance and modification of existing program\n",
    "* Multiple instances of an object can be made."
   ]
  },
  {
   "cell_type": "markdown",
   "id": "27377d69",
   "metadata": {},
   "source": [
    "Q2 Where does an inheritance search look for an attribute?\n",
    "\n",
    "Solution :- Python searches for an attribute in an upward tree of attributes. it first searches for the attribute in its instance and then looks in the class it is generated from, to all super classes listed in its class header"
   ]
  },
  {
   "cell_type": "markdown",
   "id": "3b6febb2",
   "metadata": {},
   "source": [
    "Q3. How do you distinguish between a class object and an instance object?\n",
    "\n",
    "Solution :- The differences between a class object and an instance object are:\n",
    "\n",
    "* Class is a template for creating objects whereas object is an instance of class\n",
    "* Seperate memory is allocated for each object whenever an object is created. but for a class this doesnot happens.\n",
    "* A Class is created once. Many objects are created using a class.\n",
    "* As Classes have no allocated memory. they can't be manipulated. but objects can be manipulated."
   ]
  },
  {
   "cell_type": "markdown",
   "id": "7dadc257",
   "metadata": {},
   "source": [
    "Q4. What makes the first argument in a class’s method function special?\n",
    "\n",
    "Solution :- Python Classes usually have three types of methods which are:\n",
    "\n",
    "* Instance Methods (object level methods)\n",
    "* Class Methods (class level methods)\n",
    "* Static Methods (general utility methods)\n",
    "* self is the first argument for instance methods. which refers to the object itself\n",
    "* cls is the first argument for class methods which refers to the class itself"
   ]
  },
  {
   "cell_type": "markdown",
   "id": "7414c6b4",
   "metadata": {},
   "source": [
    "Q5. What is the purpose of the __init__ method?\n",
    "\n",
    "Solution :- __init__ is a reseved method in python classes. It serves the role of a constructor in object oriented terminology. This method is called when an object is created from a class and it allows the class to initialize the attributes of the class."
   ]
  },
  {
   "cell_type": "markdown",
   "id": "9c47b82c",
   "metadata": {},
   "source": [
    "Q6. What is the process for creating a class instance?\n",
    "\n",
    "Solution :- To create a class instance, we need to call the class by its name and pass the arguments to the class, which its init method accepts.\n",
    "\n",
    "Example: my_name = my_class(\"bhushan\",\"ihack\") Here my_name is an instance of class my_class with attributes \"bhushan\" and \"ihack\"."
   ]
  },
  {
   "cell_type": "markdown",
   "id": "20a0fb1d",
   "metadata": {},
   "source": [
    "Q7. What is the process for creating a class?\n",
    "\n",
    "Solution :- class keyword is used to created a class in python. The syntax to create a class in python is class <classname>:\n",
    "\n",
    "Example: class Car: ➞ this creates a class called Car."
   ]
  },
  {
   "cell_type": "markdown",
   "id": "d6be5537",
   "metadata": {},
   "source": [
    "Q8. How would you define the superclasses of a class?\n",
    "\n",
    "Solution :- Superclass/Parent class is given as a arugment to the child class\n",
    "\n",
    "Example: class Employee(Person): Here child class Employee inherits attributes and methofs from Superclass/Parent Person"
   ]
  }
 ],
 "metadata": {
  "kernelspec": {
   "display_name": "Python 3 (ipykernel)",
   "language": "python",
   "name": "python3"
  },
  "language_info": {
   "codemirror_mode": {
    "name": "ipython",
    "version": 3
   },
   "file_extension": ".py",
   "mimetype": "text/x-python",
   "name": "python",
   "nbconvert_exporter": "python",
   "pygments_lexer": "ipython3",
   "version": "3.8.10"
  }
 },
 "nbformat": 4,
 "nbformat_minor": 5
}
