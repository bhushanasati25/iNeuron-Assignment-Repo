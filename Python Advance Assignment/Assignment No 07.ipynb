{
 "cells": [
  {
   "cell_type": "markdown",
   "id": "dd9358c0",
   "metadata": {},
   "source": [
    "**Q1. What is the purpose of the try statement?**\n",
    "\n",
    "Solution :- The try block is used to check some code for errors i.e the code inside the try block will execute when there is no error in the program."
   ]
  },
  {
   "cell_type": "markdown",
   "id": "3b451362",
   "metadata": {},
   "source": [
    "**Q2. What are the two most popular try statement variations?**\n",
    "\n",
    "Solution :- The Popular try statement variations are:\n",
    "\n",
    "* try,except\n",
    "* try,except,finally\n",
    "* try,except,finally,else\n",
    "* The try block is used to check code for exceptions during runtime. ie code inside try block will execute completely when there is no error in the program. Whereas the code inside except block will execute whenever the program encounters some error in the preceeding try block.\n",
    "\n",
    "* Whereas the code enters the else block if and only if the try clause does not raise and exception. The code in the finally block will execute irrespective of exception.\n",
    "\n"
   ]
  },
  {
   "cell_type": "markdown",
   "id": "a47b2fb5",
   "metadata": {},
   "source": [
    "**Q3. What is the purpose of the raise statement?**\n",
    "\n",
    "Solution :- Python raise Keyword is used to raise exceptions or errors. The raise keyword raises an error and stops the control flow of the program. It is used to bring up the current exception in an exception handler so that it can be handled further up the call stack.\n",
    "\n",
    "* Syntax :- raise  {name_of_ the_ exception_class}\n",
    "* Ex :- raise Exception(“user text”)"
   ]
  },
  {
   "cell_type": "markdown",
   "id": "cc16365f",
   "metadata": {},
   "source": [
    "**Q4. What does the assert statement do, and what other statement is it like?**\n",
    "\n",
    "Solution :- An assert statement checks whether a condition is true. If a condition evaluates to True , a program will keep running. If a condition is false, the program will return an AssertionError. At this point, the program will stop executing."
   ]
  },
  {
   "cell_type": "markdown",
   "id": "4974e8ac",
   "metadata": {},
   "source": [
    "**Q5. What is the purpose of the with/as argument, and what other statement is it like?**\n",
    "\n",
    "Solution :- with/as statement simplifies use of file handling in python. When we use a with statement for file reading, there is no need for programmer to explicitly takecare of activities like resource deallocation and file closing by using file.close() method. with statement itself ensures proper acquisition and release of resources. this avoids triggering of exceptions if file closing is unknowingly forgotten in the code execution.\n",
    "\n",
    "with open('sample_file.txt','w') as file:\n",
    "     file.write('Hello World')"
   ]
  }
 ],
 "metadata": {
  "kernelspec": {
   "display_name": "Python 3 (ipykernel)",
   "language": "python",
   "name": "python3"
  },
  "language_info": {
   "codemirror_mode": {
    "name": "ipython",
    "version": 3
   },
   "file_extension": ".py",
   "mimetype": "text/x-python",
   "name": "python",
   "nbconvert_exporter": "python",
   "pygments_lexer": "ipython3",
   "version": "3.8.10"
  }
 },
 "nbformat": 4,
 "nbformat_minor": 5
}
