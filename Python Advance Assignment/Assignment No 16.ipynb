{
 "cells": [
  {
   "cell_type": "markdown",
   "id": "5f9eb264",
   "metadata": {},
   "source": [
    "**Q1. What is the benefit of regular expressions?**\n",
    "\n",
    "Solution :- Regular Expressions, also known as regex or regexp, are used to match strings of text such as particular characters, words, or patterns of characters. It means that we can match and extract any string pattern from the text with the help of regular expressions. it helps the programmers to Write less and cleaner code. it also avoids multiple use of if/else statements."
   ]
  },
  {
   "cell_type": "markdown",
   "id": "3feb8924",
   "metadata": {},
   "source": [
    "**Q2. Describe the difference between the effects of \"(ab)c+\" and \"a(bc)+\" Which of these, if any, is the unqualified pattern \"abc+\"?**\n",
    "\n",
    "Solution :- Both (ab)c+ and a(bc)+ are valid patterns. the difference between both these patterns is in (ab)c+ ab is group whereas in a(bc)+ bc is a group."
   ]
  },
  {
   "cell_type": "markdown",
   "id": "eb02f5e7",
   "metadata": {},
   "source": [
    "**Q3. How much do you need to use the following sentence while using regular expressions?\n",
    "import re**\n",
    "\n",
    "Solution :- import re statement always has to be imported before using regular expressions."
   ]
  },
  {
   "cell_type": "markdown",
   "id": "3b3df104",
   "metadata": {},
   "source": [
    "**Q4. Which characters have special significance in square brackets when expressing a range, and under what circumstances?**\n",
    "\n",
    "Solution :- The Characters .,*,?,^,or,(), have a special signiface when used with square brackets. They need not be be explicitly escaped by \\ as in case of pattern texts in a raw string."
   ]
  },
  {
   "cell_type": "markdown",
   "id": "a3af14b0",
   "metadata": {},
   "source": [
    "**Q5. How does compiling a regular-expression object benefit you?**\n",
    "\n",
    "Solution :- We can Combine a regular expression pattern into pattern Objects.Which can be used for pattern matching. it also helps to search a pattern again without rewritting it."
   ]
  },
  {
   "cell_type": "markdown",
   "id": "93f3981d",
   "metadata": {},
   "source": [
    "**Q6. What are some examples of how to use the match object returned by re.match and re.search?**\n",
    "\n",
    "Solution :- The re.search() and re.match() both are functions of re module in python. These functions are very efficient and fast for searching in strings. The function searches for some substring in a string and returns a match object if found, else it returns none.\n",
    "\n",
    "- There is a difference between the use of both functions. Both return the first match of a substring found in the string, but re.match() searches only from the beginning of the string and return match object if found. But if a match of substring is found somewhere in the middle of the string, it returns none.\n",
    "\n",
    "- While re.search() searches for the whole string even if the string contains multi-lines and tries to find a match of the substring in all the lines of string"
   ]
  },
  {
   "cell_type": "code",
   "execution_count": 1,
   "id": "989c6a26",
   "metadata": {},
   "outputs": [
    {
     "name": "stdout",
     "output_type": "stream",
     "text": [
      "<re.Match object; span=(66, 72), match='string'>\n",
      "None\n",
      "<re.Match object; span=(0, 6), match='string'>\n",
      "<re.Match object; span=(0, 6), match='string'>\n"
     ]
    }
   ],
   "source": [
    "import re\n",
    "Substring ='string' \n",
    "String1 ='We are learning regex with geeksforgeeks regex is very useful for string matching. It is fast too.' \n",
    "String2 ='string We are learning regex with geeksforgeeks regex is very useful for string matching. It is fast too.'\n",
    "print(re.search(Substring, String1, re.IGNORECASE))\n",
    "print(re.match(Substring, String1, re.IGNORECASE))\n",
    "print(re.search(Substring, String2, re.IGNORECASE))\n",
    "print(re.match(Substring, String2, re.IGNORECASE))"
   ]
  },
  {
   "cell_type": "markdown",
   "id": "7248db39",
   "metadata": {},
   "source": [
    "**Q7. What is the difference between using a vertical bar (|) as an alteration and using square brackets as a character set?**\n",
    "\n",
    "\n",
    "Solution :- When | us used then patterns searches for or option. i.e `<pattern_1>|<pattern_2>` means it searches as `<pattern_1>or<<pattern_2>` in the searched string. the first occurance of matched string will be returned as the Match Object. Using Character set in square Brackets searches for all the character set in the square bracket and if match is found, it returns it."
   ]
  },
  {
   "cell_type": "markdown",
   "id": "17704da5",
   "metadata": {},
   "source": [
    "**Q8. In regular-expression search patterns, why is it necessary to use the raw-string indicator (r)? In replacement strings?**\n",
    "\n",
    "Solution :- Raw Strings are used in the regular-expression search patterns, so that blackslashes donot have to be escaped."
   ]
  }
 ],
 "metadata": {
  "kernelspec": {
   "display_name": "Python 3 (ipykernel)",
   "language": "python",
   "name": "python3"
  },
  "language_info": {
   "codemirror_mode": {
    "name": "ipython",
    "version": 3
   },
   "file_extension": ".py",
   "mimetype": "text/x-python",
   "name": "python",
   "nbconvert_exporter": "python",
   "pygments_lexer": "ipython3",
   "version": "3.8.10"
  }
 },
 "nbformat": 4,
 "nbformat_minor": 5
}
