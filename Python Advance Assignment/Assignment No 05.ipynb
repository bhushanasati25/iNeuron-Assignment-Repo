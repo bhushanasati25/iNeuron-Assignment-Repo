{
 "cells": [
  {
   "cell_type": "markdown",
   "id": "5430a0ce",
   "metadata": {},
   "source": [
    "**Q1. What is the meaning of multiple inheritance?**\n",
    "\n",
    "Solution :- When a class is derived from more than one base class it is called multiple Inheritance. The derived class inherits all the features of the base case."
   ]
  },
  {
   "cell_type": "markdown",
   "id": "282c5b2a",
   "metadata": {},
   "source": [
    "**Q2. What is the concept of delegation?**\n",
    "\n",
    "Solution :- The delegation pattern is an object-oriented design pattern that allows object composition to achieve the same code reuse as inheritance."
   ]
  },
  {
   "cell_type": "markdown",
   "id": "d359a0cf",
   "metadata": {},
   "source": [
    "**Q3. What is the concept of composition?**\n",
    "\n",
    "Solution :- Composition is a concept that models a has a relationship. It enables creating complex types by combining objects of other types. This means that a class Composite can contain an object of another class Component . This relationship means that a Composite has a Component ."
   ]
  },
  {
   "cell_type": "markdown",
   "id": "90617c04",
   "metadata": {},
   "source": [
    "**Q4. What are bound methods and how do we use them?**\n",
    "\n",
    "Solution :- A bound method is the one which is dependent on the instance of the class as the first argument. It passes the instance as the first argument which is used to access the variables and functions. In Python and newer versions of python, all functions in the class are by default bound methods."
   ]
  },
  {
   "cell_type": "code",
   "execution_count": 1,
   "id": "a376cdbd",
   "metadata": {},
   "outputs": [
    {
     "name": "stdout",
     "output_type": "stream",
     "text": [
      "<bound method A.func of <__main__.A object at 0x7f088c50f5e0>>\n"
     ]
    }
   ],
   "source": [
    "class A:\n",
    "    def func(self, arg):\n",
    "        self.arg = arg\n",
    "        print(\"Value of arg = \", arg)\n",
    "# Creating an instance\n",
    "obj = A()\n",
    "\n",
    "# bound method\n",
    "print(obj.func)\n"
   ]
  },
  {
   "cell_type": "markdown",
   "id": "a1001727",
   "metadata": {},
   "source": [
    "**Q5. What is the purpose of pseudoprivate attributes?**\n",
    "\n",
    "Solution :- This is sometimes misleadingly called private attributes really, it's just a way to localize a name to the class that created it, and does not prevent access by code outside the class. That is, this feature is mostly intended to avoid namespace collisions in instances, not to restrict access to names in general."
   ]
  }
 ],
 "metadata": {
  "kernelspec": {
   "display_name": "Python 3 (ipykernel)",
   "language": "python",
   "name": "python3"
  },
  "language_info": {
   "codemirror_mode": {
    "name": "ipython",
    "version": 3
   },
   "file_extension": ".py",
   "mimetype": "text/x-python",
   "name": "python",
   "nbconvert_exporter": "python",
   "pygments_lexer": "ipython3",
   "version": "3.8.10"
  }
 },
 "nbformat": 4,
 "nbformat_minor": 5
}
